{
 "cells": [
  {
   "cell_type": "markdown",
   "metadata": {},
   "source": [
    "## 식과 연산자"
   ]
  },
  {
   "cell_type": "code",
   "execution_count": 1,
   "metadata": {},
   "outputs": [
    {
     "name": "stdout",
     "output_type": "stream",
     "text": [
      "X =  3\n",
      "X + 5 =  8\n"
     ]
    }
   ],
   "source": [
    "# 덧셈\n",
    "x = 3\n",
    "print('X = ', x)\n",
    "print('X + 5 = ', x+5)"
   ]
  },
  {
   "cell_type": "code",
   "execution_count": 2,
   "metadata": {},
   "outputs": [
    {
     "name": "stdout",
     "output_type": "stream",
     "text": [
      "Y - 3 =  2\n",
      "Y * 3 =  15\n"
     ]
    }
   ],
   "source": [
    "# 뺄셈, 곱셈\n",
    "y = 5\n",
    "print('Y - 3 = ', y-3)\n",
    "print('Y * 3 = ', y*3)"
   ]
  },
  {
   "cell_type": "code",
   "execution_count": 3,
   "metadata": {},
   "outputs": [
    {
     "name": "stdout",
     "output_type": "stream",
     "text": [
      "Z1 = Y / X =  1.6666666666666667\n",
      "Z2 = Y % X =  2\n",
      "Z3 = Y ** X =  125\n"
     ]
    }
   ],
   "source": [
    "# 나눗셈, 나머지, 제곱\n",
    "z1 = y / x\n",
    "z2 = y % x\n",
    "z3 = y ** x\n",
    "print('Z1 = Y / X = ', z1)\n",
    "print('Z2 = Y % X = ', z2)\n",
    "print('Z3 = Y ** X = ', z3)"
   ]
  },
  {
   "cell_type": "code",
   "execution_count": 4,
   "metadata": {},
   "outputs": [
    {
     "name": "stdout",
     "output_type": "stream",
     "text": [
      "Z4 = Y // X =  1\n"
     ]
    }
   ],
   "source": [
    "#  나눗셈 (소수점 부분 제거)\n",
    "z4 = y // x\n",
    "print('Z4 = Y // X = ', z4)"
   ]
  },
  {
   "cell_type": "markdown",
   "metadata": {},
   "source": [
    "## 변수와 자료형"
   ]
  },
  {
   "cell_type": "code",
   "execution_count": 5,
   "metadata": {},
   "outputs": [
    {
     "name": "stdout",
     "output_type": "stream",
     "text": [
      "Type of NUM =  <class 'int'>\n"
     ]
    }
   ],
   "source": [
    "# 정수 자료형\n",
    "int = 10\n",
    "print('Type of NUM = ', type(int))"
   ]
  },
  {
   "cell_type": "code",
   "execution_count": 6,
   "metadata": {},
   "outputs": [
    {
     "name": "stdout",
     "output_type": "stream",
     "text": [
      "Type of NUM =  <class 'float'>\n"
     ]
    }
   ],
   "source": [
    "#  부동 소수점 자료형\n",
    "real = 100.100\n",
    "print('Type of NUM = ', type(real))"
   ]
  },
  {
   "cell_type": "code",
   "execution_count": 7,
   "metadata": {},
   "outputs": [
    {
     "name": "stdout",
     "output_type": "stream",
     "text": [
      "Type of STR =  <class 'str'>\n"
     ]
    }
   ],
   "source": [
    "# 문자열 자료형\n",
    "str = 'Python'\n",
    "print('Type of STR = ', type(str))"
   ]
  },
  {
   "cell_type": "code",
   "execution_count": 8,
   "metadata": {},
   "outputs": [
    {
     "data": {
      "text/plain": [
       "int"
      ]
     },
     "execution_count": 8,
     "metadata": {},
     "output_type": "execute_result"
    }
   ],
   "source": [
    "int = 100\n",
    "type(int)"
   ]
  },
  {
   "cell_type": "code",
   "execution_count": 9,
   "metadata": {},
   "outputs": [
    {
     "data": {
      "text/plain": [
       "float"
      ]
     },
     "execution_count": 9,
     "metadata": {},
     "output_type": "execute_result"
    }
   ],
   "source": [
    "real = 100.100\n",
    "type(real)"
   ]
  },
  {
   "cell_type": "code",
   "execution_count": 10,
   "metadata": {},
   "outputs": [
    {
     "data": {
      "text/plain": [
       "str"
      ]
     },
     "execution_count": 10,
     "metadata": {},
     "output_type": "execute_result"
    }
   ],
   "source": [
    "str = 'Python'\n",
    "type(str)"
   ]
  },
  {
   "cell_type": "code",
   "execution_count": 11,
   "metadata": {},
   "outputs": [
    {
     "name": "stdout",
     "output_type": "stream",
     "text": [
      "List_1 =  ['red', 'blue', 'yellow']\n",
      "<class 'list'>\n",
      "List_2 =  ['apple', 100, 'banana']\n",
      "<class 'list'>\n"
     ]
    }
   ],
   "source": [
    "# 리스트 자료형\n",
    "list1 = ['red', 'blue', 'yellow'] # 같은 자료형\n",
    "print('List_1 = ', list1)\n",
    "print(type(list1))\n",
    "n = 100\n",
    "list2 = ['apple', n, 'banana'] # 다른 자료형\n",
    "print('List_2 = ', list2)\n",
    "print(type(list2))"
   ]
  },
  {
   "cell_type": "code",
   "execution_count": 12,
   "metadata": {},
   "outputs": [
    {
     "name": "stdout",
     "output_type": "stream",
     "text": [
      "Fruits =  [3, 6, 9]\n",
      "<class 'list'>\n"
     ]
    }
   ],
   "source": [
    "apple = 3\n",
    "banana = 6\n",
    "grape = 9\n",
    "fruits = [apple, banana, grape]\n",
    "print('Fruits = ', fruits)\n",
    "print(type(fruits))"
   ]
  },
  {
   "cell_type": "code",
   "execution_count": 13,
   "metadata": {},
   "outputs": [
    {
     "name": "stdout",
     "output_type": "stream",
     "text": [
      "Integer List =  [10, 20, 30, 40, 50]\n",
      "Float List =  [10.1, 20.2, 30.3, 40.4, 50.5, 60.6, 70.7]\n",
      "String List =  ['A', 'B', 'C', 'D', 'E', 'F', 'G', 'H', 'I']\n",
      "First of Integer List =  10\n",
      "Middle of Float List =  50.5\n",
      "Last of String List =  I\n",
      "Length of Integer List =  5\n",
      "Length of Float List =  7\n",
      "Length of String List =  9\n"
     ]
    }
   ],
   "source": [
    "# 리스트 값 입력\n",
    "integer = [10, 20, 30, 40, 50]\n",
    "float = [10.1, 20.2, 30.3, 40.4, 50.5, 60.6, 70.7]\n",
    "string = ['A', 'B', 'C', 'D', 'E', 'F', 'G', 'H', 'I']\n",
    "# 리스트 값 출력\n",
    "print('Integer List = ', integer)\n",
    "print('Float List = ', float)\n",
    "print('String List = ', string)\n",
    "# 리스트 값 추출 출력\n",
    "print('First of Integer List = ', integer[0])\n",
    "print('Middle of Float List = ', float[4])\n",
    "print('Last of String List = ', string[-1])\n",
    "# 리스트 길이 출력\n",
    "print('Length of Integer List = ', len(integer))\n",
    "print('Length of Float List = ', len(float))\n",
    "print('Length of String List = ', len(string))"
   ]
  },
  {
   "cell_type": "code",
   "execution_count": 14,
   "metadata": {},
   "outputs": [
    {
     "name": "stdout",
     "output_type": "stream",
     "text": [
      "Length of ABC =  10 List =  [1, 2, 3, 4, 5, 6, 7, 8, 9, 10]\n",
      "Length of ABC =  11 List =  [1, 2, 3, 4, 5, 6, 7, 8, 9, 10, 11]\n",
      "Length of ABC =  12 List =  [1, 2, 3, 4, 5, 6, 7, 8, 9, 10, 11, [12, 13]]\n",
      "Length of ABC =  14 List =  [1, 2, 3, 4, 5, 6, 7, 8, 9, 10, 11, [12, 13], 14, 15]\n"
     ]
    }
   ],
   "source": [
    "# 배열에 리스트 추가\n",
    "abc = [1, 2, 3, 4, 5, 6, 7, 8, 9, 10]\n",
    "print('Length of ABC = ', len(abc), 'List = ', abc)\n",
    "# 다른 요소 추가\n",
    "abc.append(11)\n",
    "print('Length of ABC = ', len(abc), 'List = ', abc)\n",
    "# 다른 리스트 추가\n",
    "abc.append([12, 13])\n",
    "print('Length of ABC = ', len(abc), 'List = ', abc)\n",
    "# 다른 리스트의 요소 추가\n",
    "abc.extend([14, 15])\n",
    "print('Length of ABC = ', len(abc), 'List = ', abc)"
   ]
  },
  {
   "cell_type": "code",
   "execution_count": 15,
   "metadata": {},
   "outputs": [
    {
     "name": "stdout",
     "output_type": "stream",
     "text": [
      "Length of ABC =  13 List =  [1, 2, 3, 4, 5, 6, 7, 8, 9, 10, 11, 14, 15]\n",
      "Length of ABC =  12 List =  [1, 2, 3, 4, 5, 6, 7, 8, 9, 10, 11, 14]\n",
      "Length of ABC =  11 List =  [1, 2, 3, 4, 5, 6, 7, 8, 9, 10, 11]\n"
     ]
    }
   ],
   "source": [
    "# 인덱스를 지정해서 요소 제거\n",
    "abc.pop(11)\n",
    "print('Length of ABC = ', len(abc), 'List = ', abc)\n",
    "# 마지막 요소 제거\n",
    "abc.pop()\n",
    "print('Length of ABC = ', len(abc), 'List = ', abc)\n",
    "# 요소 지정해서 제거\n",
    "abc.remove(14)\n",
    "print('Length of ABC = ', len(abc), 'List = ', abc)"
   ]
  },
  {
   "cell_type": "code",
   "execution_count": 16,
   "metadata": {},
   "outputs": [
    {
     "name": "stdout",
     "output_type": "stream",
     "text": [
      "Length of ABC =  10 List =  [1, 2, 3, 4, 5, 6, 7, 8, 9, 10]\n",
      "Length of ABC =  9 List =  [1, 2, 3, 4, 5, 6, 7, 8, 9]\n"
     ]
    }
   ],
   "source": [
    "abc = [1, 2, 3, 4, 5, 6, 7, 8, 9, 10]\n",
    "print('Length of ABC = ', len(abc), 'List = ', abc)\n",
    "# 요소 제거\n",
    "del abc[9]\n",
    "print('Length of ABC = ', len(abc), 'List = ', abc)"
   ]
  },
  {
   "cell_type": "code",
   "execution_count": 17,
   "metadata": {},
   "outputs": [
    {
     "name": "stdout",
     "output_type": "stream",
     "text": [
      "Before =  1\n",
      "After =  100\n",
      "From Start To End =  [100, 2, 3, 4, 5, 6, 7, 8, 9]\n",
      "From 0 To 3 =  [100, 2, 3, 4]\n",
      "To 3 =  [100, 2, 3, 4]\n",
      "From 5 To End =  [6, 7, 8, 9]\n",
      "Length of ABC =  8 List =  [2, 3, 4, 5, 6, 7, 8, 9]\n",
      "Length of ABC =  4 List =  [2, 3, 4, 5]\n"
     ]
    }
   ],
   "source": [
    "# 리스트 갱신\n",
    "print('Before = ', abc[0])\n",
    "abc[0] = 100\n",
    "print('After = ', abc[0])\n",
    "# 리스트에서 리스트 추출\n",
    "print('From Start To End = ', abc)\n",
    "print('From 0 To 3 = ', abc[0:4])\n",
    "print('To 3 = ', abc[:4])\n",
    "print('From 5 To End = ', abc[5:])\n",
    "# 리스트에서 요소 제거\n",
    "del abc[0]\n",
    "print('Length of ABC = ', len(abc), 'List = ', abc)\n",
    "del abc[4:]\n",
    "print('Length of ABC = ', len(abc), 'List = ', abc)"
   ]
  },
  {
   "cell_type": "code",
   "execution_count": 18,
   "metadata": {},
   "outputs": [
    {
     "name": "stdout",
     "output_type": "stream",
     "text": [
      "List of Fruits =  ['melon', 'banana', 'grape']\n",
      "List of Fruits =  ['apple', 'banana', 'grape']\n",
      "List of Fruits =  ['apple', 'banana', 'grape']\n",
      "List of Fruits =  ['strawberry', 'banana', 'grape']\n"
     ]
    }
   ],
   "source": [
    "# 리스트형 주의점\n",
    "\n",
    "fruits = [\"apple\", \"banana\", \"grape\"]\n",
    "fruits_copy = fruits\n",
    "fruits_copy[0] = \"melon\"\n",
    "print('List of Fruits = ', fruits)\n",
    "\n",
    "fruits = [\"apple\", \"banana\", \"grape\"]\n",
    "fruits_copy = fruits[:]   \n",
    "fruits_copy[0] = \"melon\"\n",
    "print('List of Fruits = ', fruits)\n",
    "\n",
    "fruits = [\"apple\", \"banana\", \"grape\"]\n",
    "fruits_copy = list(fruits)\n",
    "fruits_copy[0] = \"strawberry\"\n",
    "print('List of Fruits = ', fruits)\n",
    "\n",
    "print('List of Fruits = ', fruits_copy)"
   ]
  },
  {
   "cell_type": "markdown",
   "metadata": {},
   "source": [
    "## 조건 분기"
   ]
  },
  {
   "cell_type": "code",
   "execution_count": 19,
   "metadata": {},
   "outputs": [
    {
     "name": "stdout",
     "output_type": "stream",
     "text": [
      "Number 1 =  111\n",
      "Number 2 =  222\n",
      "Number 1 is less than Number 2\n"
     ]
    }
   ],
   "source": [
    "# 조건 분기(숫자)\n",
    "num1 = 111\n",
    "num2 = 222\n",
    "print('Number 1 = ', num1)\n",
    "print('Number 2 = ', num2)\n",
    "\n",
    "# 크기 비교\n",
    "if num1 == num2:\n",
    "    print('Number 1 is equal to Number 2')\n",
    "elif num1 < num2:\n",
    "    print('Number 1 is less than Number 2')\n",
    "else:\n",
    "    print('Number 1 is greater than Number 2')"
   ]
  },
  {
   "cell_type": "code",
   "execution_count": 20,
   "metadata": {},
   "outputs": [
    {
     "name": "stdout",
     "output_type": "stream",
     "text": [
      "str1 = Python\n",
      "str2 = Welcome to Python World!\n",
      "\"Python\" is included in the statement\n"
     ]
    }
   ],
   "source": [
    "# 조건 분기(문장)\n",
    "str1 = 'Python'\n",
    "str2 = 'Welcome to Python World!'\n",
    "print('str1' + ' = ' + str1)\n",
    "print('str2' + ' = ' + str2)\n",
    "\n",
    "if str1 in str2:\n",
    "    print('\"Python\" is included in the statement')\n",
    "else:\n",
    "    print('\"Python\" is not included in the statement')"
   ]
  },
  {
   "cell_type": "markdown",
   "metadata": {},
   "source": [
    "## 반복"
   ]
  },
  {
   "cell_type": "code",
   "execution_count": 21,
   "metadata": {},
   "outputs": [
    {
     "name": "stdout",
     "output_type": "stream",
     "text": [
      "dog\n",
      "cat\n",
      "tiger\n",
      "bear\n",
      "elephant\n"
     ]
    }
   ],
   "source": [
    "# for 반복문\n",
    "animals = [\"dog\", \"cat\", \"tiger\", \"bear\", \"elephant\"]\n",
    "for animal in animals:\n",
    "    print(animal)"
   ]
  },
  {
   "cell_type": "code",
   "execution_count": 22,
   "metadata": {},
   "outputs": [
    {
     "name": "stdout",
     "output_type": "stream",
     "text": [
      "dog\n",
      "cat\n",
      "tiger\n",
      "bear\n"
     ]
    }
   ],
   "source": [
    "# 반복 중단하기\n",
    "for animal in animals:\n",
    "    print(animal)\n",
    "    if animal == \"bear\":\n",
    "        break;"
   ]
  },
  {
   "cell_type": "code",
   "execution_count": 23,
   "metadata": {},
   "outputs": [
    {
     "name": "stdout",
     "output_type": "stream",
     "text": [
      "dog\n",
      "cat\n",
      "bear\n",
      "elephant\n"
     ]
    }
   ],
   "source": [
    "# 반복 건너뛰기\n",
    "for animal in animals:\n",
    "    if animal == \"tiger\":\n",
    "        continue\n",
    "    print(animal)"
   ]
  },
  {
   "cell_type": "code",
   "execution_count": 24,
   "metadata": {},
   "outputs": [
    {
     "name": "stdout",
     "output_type": "stream",
     "text": [
      "5\n",
      "4\n",
      "3\n",
      "2\n",
      "1\n"
     ]
    }
   ],
   "source": [
    "# while 반복문\n",
    "n = 5\n",
    "while n > 0:\n",
    "    print(n)\n",
    "    n -= 1"
   ]
  },
  {
   "cell_type": "code",
   "execution_count": 25,
   "metadata": {},
   "outputs": [
    {
     "name": "stdout",
     "output_type": "stream",
     "text": [
      "90\n",
      "80\n",
      "70\n",
      "60\n",
      "50\n",
      "40\n",
      "30\n",
      "20\n",
      "10\n",
      "0\n"
     ]
    }
   ],
   "source": [
    "n = 100\n",
    "while n != 0:\n",
    "    n -= 1\n",
    "    if n%10 != 0:\n",
    "        continue    \n",
    "    else:\n",
    "        print(n)"
   ]
  },
  {
   "cell_type": "markdown",
   "metadata": {},
   "source": [
    "## 함수"
   ]
  },
  {
   "cell_type": "code",
   "execution_count": 26,
   "metadata": {},
   "outputs": [
    {
     "name": "stdout",
     "output_type": "stream",
     "text": [
      "Number 3 =  333\n"
     ]
    }
   ],
   "source": [
    "# 함수 정의하기\n",
    "def add(x, y):\n",
    "    z = x + y  # 덧셈\n",
    "    return z\n",
    "\n",
    "# 함수 호출하기\n",
    "num1 = 111\n",
    "num2 = 222\n",
    "num3 = add(num1, num2)\n",
    "\n",
    "print('Number 3 = ', num3)"
   ]
  },
  {
   "cell_type": "code",
   "execution_count": 27,
   "metadata": {},
   "outputs": [
    {
     "name": "stdout",
     "output_type": "stream",
     "text": [
      "Now Time =  1596428058.8698502\n",
      "Now Time =  1596428058.8708508\n"
     ]
    }
   ],
   "source": [
    "# 공개된 함수 가져오기: 방법(1)\n",
    "import time  # time 패키지 가져오기\n",
    "now_time = time.time()\n",
    "print('Now Time = ', now_time)\n",
    "\n",
    "# 공개된 함수 가져오기: 방법(2)\n",
    "from time import time  # time 패키지로부터 time 모듈 가져오기\n",
    "now_time = time()\n",
    "print('Now Time = ', now_time)"
   ]
  },
  {
   "cell_type": "markdown",
   "metadata": {},
   "source": [
    "## 클래스"
   ]
  },
  {
   "cell_type": "code",
   "execution_count": 28,
   "metadata": {},
   "outputs": [
    {
     "name": "stdout",
     "output_type": "stream",
     "text": [
      "5\n"
     ]
    }
   ],
   "source": [
    "# 클래스 정의하기(1)\n",
    "class MyProduct1:\n",
    "    def __init__(self, name, price):  # 생성자 정의\n",
    "        # 인수를 멤버에 저장\n",
    "        self.name = name\n",
    "        self.price = price\n",
    "        self.stock = 0\n",
    "        self.sales = 0\n",
    "    def buy_up(self, n):  # 매서드 정의\n",
    "        self.stock += n\n",
    "        \n",
    "# 클래스 호출하기\n",
    "product1 = MyProduct1(\"cake\", 500)\n",
    "product1.buy_up(5)\n",
    "print(product1.stock)"
   ]
  },
  {
   "cell_type": "code",
   "execution_count": 29,
   "metadata": {},
   "outputs": [
    {
     "name": "stdout",
     "output_type": "stream",
     "text": [
      "30\n"
     ]
    }
   ],
   "source": [
    "# 클래스 정의하기(2)\n",
    "class MyProduct2:\n",
    "    def __init__(self, name, price, stock):  # 생성자 정의\n",
    "        # 인수를 멤버에 저장\n",
    "        self.name = name\n",
    "        self.price = price\n",
    "        self.stock = stock\n",
    "        self.sales = 0\n",
    "    def buy_up(self, n):  # 매서드 정의\n",
    "        self.stock += n\n",
    "\n",
    "# 클래스 호출하기\n",
    "product2 = MyProduct2(\"cake\", 500, 20)\n",
    "product2.buy_up(10)\n",
    "print(product2.stock)"
   ]
  },
  {
   "cell_type": "code",
   "execution_count": 30,
   "metadata": {},
   "outputs": [
    {
     "name": "stdout",
     "output_type": "stream",
     "text": [
      "550.0\n"
     ]
    }
   ],
   "source": [
    "# 클래스 상속하기 (1)\n",
    "class MyProduct3(MyProduct1):    # MyProduct1 클래스를 상속하는 MyProduct3 정의   \n",
    "    # 생성자의 세 번째 인수가 tax_rate을 받음\n",
    "    def __init__(self, name, price, tax_rate):    \n",
    "        #  super()를 사용하여 부모 클래스의 메서드를 호출\n",
    "        super().__init__(name, price)  \n",
    "        self.tax_rate = tax_rate   \n",
    "    # get_price_with_tax를 새로 구현\n",
    "    def get_price_with_tax(self):   \n",
    "        return (self.price * (1 + self.tax_rate))  \n",
    "    \n",
    "# 클래스 호출하기\n",
    "product3 = MyProduct3(\"cake\", 500, 0.1)\n",
    "print(product3.get_price_with_tax())"
   ]
  },
  {
   "cell_type": "code",
   "execution_count": 31,
   "metadata": {},
   "outputs": [
    {
     "name": "stdout",
     "output_type": "stream",
     "text": [
      "40\n",
      "550.0\n"
     ]
    }
   ],
   "source": [
    "# 클래스 상속하기 (2)\n",
    "class MyProduct4(MyProduct2):    # MyProduct2 클래스를 상속하는 MyProduct3 정의   \n",
    "    def __init__(self, name, price, stock, tax_rate):  # 생성자의 네 번째 인수가 tax_rate을 받음\n",
    "        super().__init__(name, price, stock)  #  super()를 사용하여 부모 클래스의 메서드를 호출\n",
    "        self.tax_rate=tax_rate   \n",
    "    def buy_up(self, n):  # 매서드 정의\n",
    "        self.stock += n\n",
    "    def get_price_with_tax(self):    # get_price_with_tax를 새로 구현\n",
    "        return (self.price * (1 + self.tax_rate))    \n",
    "    \n",
    "# 클래스 호출하기\n",
    "product4 = MyProduct4(\"cake\", 500, 20, 0.1)\n",
    "product4.buy_up(20)\n",
    "print(product4.stock)\n",
    "print(product4.get_price_with_tax())"
   ]
  },
  {
   "cell_type": "code",
   "execution_count": null,
   "metadata": {},
   "outputs": [],
   "source": []
  }
 ],
 "metadata": {
  "kernelspec": {
   "display_name": "Python 3",
   "language": "python",
   "name": "python3"
  },
  "language_info": {
   "codemirror_mode": {
    "name": "ipython",
    "version": 3
   },
   "file_extension": ".py",
   "mimetype": "text/x-python",
   "name": "python",
   "nbconvert_exporter": "python",
   "pygments_lexer": "ipython3",
   "version": "3.7.7"
  }
 },
 "nbformat": 4,
 "nbformat_minor": 4
}
