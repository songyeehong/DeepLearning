{
 "cells": [
  {
   "cell_type": "markdown",
   "metadata": {},
   "source": [
    "## 넘파이 고속 처리 체험"
   ]
  },
  {
   "cell_type": "code",
   "execution_count": 1,
   "metadata": {},
   "outputs": [],
   "source": [
    "# 사용할 라이브러리 가져오기\n",
    "import numpy as np\n",
    "import time\n",
    "from numpy.random import rand"
   ]
  },
  {
   "cell_type": "code",
   "execution_count": 2,
   "metadata": {},
   "outputs": [],
   "source": [
    "# 행, 열의 크기\n",
    "N = 100\n",
    "\n",
    "# 행렬의 초기화\n",
    "matrix_A = np.array(rand(N, N))\n",
    "matrix_B = np.array(rand(N, N))\n",
    "matrix_C = np.array([[0] * N for _ in range(N)])"
   ]
  },
  {
   "cell_type": "code",
   "execution_count": 3,
   "metadata": {},
   "outputs": [
    {
     "name": "stdout",
     "output_type": "stream",
     "text": [
      "Time with Python = 1.06[sec]\n"
     ]
    }
   ],
   "source": [
    "# 파이썬으로 계산\n",
    "start = time.time()\n",
    "\n",
    "# for 문을 사용하여 행렬 곱셈 실행\n",
    "for i in range(N):\n",
    "    for j in range(N):\n",
    "        for k in range(N):\n",
    "            matrix_C[i][j] = matrix_A[i][k] * matrix_B[k][j]\n",
    "            \n",
    "print('Time with Python = %.2f[sec]' % float(time.time() - start))"
   ]
  },
  {
   "cell_type": "code",
   "execution_count": 4,
   "metadata": {},
   "outputs": [
    {
     "name": "stdout",
     "output_type": "stream",
     "text": [
      "Time with Numpy = 0.01[sec]\n"
     ]
    }
   ],
   "source": [
    "# 넘파이로 계산\n",
    "start = time.time()\n",
    "\n",
    "# Numpy를 사용하여 행렬 곱셈 실행\n",
    "matrix_C = np.dot(matrix_A, matrix_B)\n",
    "\n",
    "print('Time with Numpy = %.2f[sec]' % float(time.time() - start))"
   ]
  },
  {
   "cell_type": "markdown",
   "metadata": {},
   "source": [
    "##  넘파이 array() 함수로 배열 만들기"
   ]
  },
  {
   "cell_type": "code",
   "execution_count": 5,
   "metadata": {},
   "outputs": [
    {
     "name": "stdout",
     "output_type": "stream",
     "text": [
      "[1 2 3 4 5 6 7 8]\n",
      "<class 'numpy.ndarray'>\n",
      "\n",
      "[[1 2 3 4]\n",
      " [5 6 7 8]]\n",
      "<class 'numpy.ndarray'>\n",
      "\n",
      "[[[1 2]\n",
      "  [3 4]]\n",
      "\n",
      " [[5 6]\n",
      "  [7 8]]]\n",
      "<class 'numpy.ndarray'>\n",
      "\n"
     ]
    }
   ],
   "source": [
    "# 1차원 배열 (벡터)\n",
    "array_1D = np.array([1,2,3,4,5,6,7,8])\n",
    "print(array_1D)\n",
    "print(type(array_1D))\n",
    "print('')\n",
    "\n",
    "# 2차원 배열 (행렬)\n",
    "array_2D = np.array([[1,2,3,4],[5,6,7,8]])\n",
    "print(array_2D)\n",
    "print(type(array_2D))\n",
    "print('')\n",
    "\n",
    "# 3차원 배열 (텐서)\n",
    "array_3D = np.array([[[1,2],[3,4]],[[5,6],[7,8]]])\n",
    "print(array_3D)\n",
    "print(type(array_3D))\n",
    "print('')"
   ]
  },
  {
   "cell_type": "markdown",
   "metadata": {},
   "source": [
    "## 인덱스 참조와 슬라이스"
   ]
  },
  {
   "cell_type": "code",
   "execution_count": 6,
   "metadata": {},
   "outputs": [
    {
     "name": "stdout",
     "output_type": "stream",
     "text": [
      "The first element of 1D Array =  1\n",
      "The last element of 1D Array =  8\n",
      "\n",
      "1 row x 2 column of 2D Array =  2\n",
      "2 row x 3 column of 2D Array =  7\n",
      "\n",
      "1 x 2 row x 2 column of 3D Array =  4\n",
      "2 x 2 row x 2 column of 3D Array =  8\n",
      "\n"
     ]
    }
   ],
   "source": [
    "# 1차원 배열 (벡터)\n",
    "print('The first element of 1D Array = ', array_1D[0])\n",
    "print('The last element of 1D Array = ', array_1D[-1])\n",
    "print('')\n",
    "# 2차원 배열 (행렬)\n",
    "print('1 row x 2 column of 2D Array = ', array_2D[0][1])\n",
    "print('2 row x 3 column of 2D Array = ', array_2D[1][2])\n",
    "print('')\n",
    "# 3차원 배열 (텐서)\n",
    "print('1 x 2 row x 2 column of 3D Array = ', array_3D[0][1][1])\n",
    "print('2 x 2 row x 2 column of 3D Array = ', array_3D[1][1][1])\n",
    "print('')"
   ]
  },
  {
   "cell_type": "markdown",
   "metadata": {},
   "source": [
    "## 난수 생성 "
   ]
  },
  {
   "cell_type": "code",
   "execution_count": 7,
   "metadata": {},
   "outputs": [
    {
     "name": "stdout",
     "output_type": "stream",
     "text": [
      "[0.34053926 0.99399673 0.16966329 0.8806634  0.19388981 0.77821193\n",
      " 0.74513712 0.14302479 0.8363005  0.1809963 ]\n",
      "\n",
      "[[908 193 459 886 108]\n",
      " [435 376 265 457 994]]\n",
      "\n",
      "[-1.90940175 -1.57642634 -0.91330447 -1.59776064 -0.6251729   1.15830699\n",
      " -0.69803778 -1.22806539 -0.7197419  -0.64276992]\n",
      "\n"
     ]
    }
   ],
   "source": [
    "# 난수 생성 함수 가져오기\n",
    "from numpy.random import rand, randint, normal\n",
    "\n",
    "# 0 이상 1 미만의 난수를 x개 생성\n",
    "x = 10\n",
    "random_number1 = rand(x)\n",
    "print(random_number1)\n",
    "print('')\n",
    "\n",
    "# x 이상 y 미만의 정수 난수를 z개 생성\n",
    "x = 1\n",
    "y = 1000\n",
    "z = (2,5)  # 2 rows x 5 columns 행렬\n",
    "random_number2 = randint(x,y,z)\n",
    "print(random_number2)\n",
    "print('')\n",
    "\n",
    "# 가우스 분포를 따르는 난수를 n개 생성\n",
    "n = 10\n",
    "random_number3 = normal(size=n)\n",
    "print(random_number3)\n",
    "print('')"
   ]
  },
  {
   "cell_type": "code",
   "execution_count": 8,
   "metadata": {},
   "outputs": [
    {
     "name": "stdout",
     "output_type": "stream",
     "text": [
      "[0.19151945 0.62210877 0.43772774 0.78535858 0.77997581 0.27259261\n",
      " 0.27646426 0.80187218 0.95813935 0.87593263]\n",
      "[0.35781727 0.50099513 0.68346294 0.71270203 0.37025075 0.56119619\n",
      " 0.50308317 0.01376845 0.77282662 0.88264119]\n"
     ]
    }
   ],
   "source": [
    "# 똑같은 난수 생성\n",
    "from numpy.random import seed\n",
    "np.random.seed(1234)    # seed 지정함\n",
    "random_number4 = rand(10)\n",
    "random_number5 = rand(10)\n",
    "print(random_number4)\n",
    "print(random_number5)"
   ]
  },
  {
   "cell_type": "code",
   "execution_count": 9,
   "metadata": {},
   "outputs": [
    {
     "name": "stdout",
     "output_type": "stream",
     "text": [
      "[0.19151945 0.62210877 0.43772774 0.78535858 0.77997581 0.27259261\n",
      " 0.27646426 0.80187218 0.95813935 0.87593263]\n",
      "[0.35781727 0.50099513 0.68346294 0.71270203 0.37025075 0.56119619\n",
      " 0.50308317 0.01376845 0.77282662 0.88264119]\n"
     ]
    }
   ],
   "source": [
    "np.random.seed(1234)   # seed 지정함\n",
    "random_number6 = rand(10)\n",
    "random_number7 = rand(10)\n",
    "print(random_number6)\n",
    "print(random_number7)"
   ]
  },
  {
   "cell_type": "code",
   "execution_count": 10,
   "metadata": {},
   "outputs": [
    {
     "name": "stdout",
     "output_type": "stream",
     "text": [
      "[0.36488598 0.61539618 0.07538124 0.36882401 0.9331401  0.65137814\n",
      " 0.39720258 0.78873014 0.31683612 0.56809865]\n",
      "[0.86912739 0.43617342 0.80214764 0.14376682 0.70426097 0.70458131\n",
      " 0.21879211 0.92486763 0.44214076 0.90931596]\n"
     ]
    }
   ],
   "source": [
    "# seed 지정하지 않음\n",
    "random_number8 = rand(10)\n",
    "random_number9 = rand(10)\n",
    "print(random_number8)\n",
    "print(random_number9)"
   ]
  },
  {
   "cell_type": "code",
   "execution_count": 11,
   "metadata": {},
   "outputs": [
    {
     "name": "stdout",
     "output_type": "stream",
     "text": [
      "[0.05980922 0.18428708 0.04735528 0.67488094 0.59462478 0.53331016\n",
      " 0.04332406 0.56143308 0.32966845 0.50296683]\n",
      "[0.11189432 0.60719371 0.56594464 0.00676406 0.61744171 0.91212289\n",
      " 0.79052413 0.99208147 0.95880176 0.79196414]\n"
     ]
    }
   ],
   "source": [
    "# seed 지정하지 않음\n",
    "random_number10 = rand(10)\n",
    "random_number11 = rand(10)\n",
    "print(random_number10)\n",
    "print(random_number11)"
   ]
  },
  {
   "cell_type": "code",
   "execution_count": 12,
   "metadata": {},
   "outputs": [
    {
     "name": "stdout",
     "output_type": "stream",
     "text": [
      "[0.19151945 0.62210877 0.43772774 0.78535858 0.77997581 0.27259261\n",
      " 0.27646426 0.80187218 0.95813935 0.87593263]\n",
      "[0.35781727 0.50099513 0.68346294 0.71270203 0.37025075 0.56119619\n",
      " 0.50308317 0.01376845 0.77282662 0.88264119]\n"
     ]
    }
   ],
   "source": [
    "np.random.seed(1234)   # seed 지정함\n",
    "random_number12 = rand(10)\n",
    "random_number13 = rand(10)\n",
    "print(random_number12)\n",
    "print(random_number13)"
   ]
  },
  {
   "cell_type": "markdown",
   "metadata": {},
   "source": [
    "## 통계 함수"
   ]
  },
  {
   "cell_type": "code",
   "execution_count": 13,
   "metadata": {},
   "outputs": [
    {
     "name": "stdout",
     "output_type": "stream",
     "text": [
      "Shape of Array 1 =  (15,)\n",
      "[ 0  2  4  6  8 10 12 14 16 18 20 22 24 26 28]\n",
      "Shape of Array 2 =  (3, 5)\n",
      "[[ 0  2  4  6  8]\n",
      " [10 12 14 16 18]\n",
      " [20 22 24 26 28]]\n"
     ]
    }
   ],
   "source": [
    "arr1 = np.arange(15)*2\n",
    "print('Shape of Array 1 = ', arr1.shape)\n",
    "print(arr1)\n",
    "arr2 = np.arange(15).reshape(3,5)*2\n",
    "print('Shape of Array 2 = ', arr2.shape)\n",
    "print(arr2)"
   ]
  },
  {
   "cell_type": "code",
   "execution_count": 14,
   "metadata": {},
   "outputs": [
    {
     "name": "stdout",
     "output_type": "stream",
     "text": [
      "Sum of Array 1 =  210     Sum of Array 2 =  210\n"
     ]
    }
   ],
   "source": [
    "arr1_sum = np.sum(arr1)\n",
    "arr2_sum = np.sum(arr2)\n",
    "print('Sum of Array 1 = ', arr1_sum, '    Sum of Array 2 = ', arr2_sum)"
   ]
  },
  {
   "cell_type": "code",
   "execution_count": 15,
   "metadata": {},
   "outputs": [
    {
     "name": "stdout",
     "output_type": "stream",
     "text": [
      "Max =  28    Min =  0\n",
      "Mean =  14.0    Average =  14.0\n",
      "MaxArg =  14    MinArg =  0\n"
     ]
    }
   ],
   "source": [
    "arr1_max = np.max(arr1)\n",
    "arr1_min = np.min(arr1)\n",
    "arr1_mean = np.mean(arr1)\n",
    "arr1_average = np.average(arr1)\n",
    "arr1_argmax = np.argmax(arr1)\n",
    "arr1_argmin = np.argmin(arr1)\n",
    "print('Max = ', arr1_max, '   Min = ', arr1_min)\n",
    "print('Mean = ', arr1_mean, '   Average = ', arr1_average)\n",
    "print('MaxArg = ', arr1_argmax, '   MinArg = ', arr1_argmin)"
   ]
  },
  {
   "cell_type": "markdown",
   "metadata": {},
   "source": [
    "## ndarray 사용시 주의사항"
   ]
  },
  {
   "cell_type": "code",
   "execution_count": 16,
   "metadata": {},
   "outputs": [
    {
     "name": "stdout",
     "output_type": "stream",
     "text": [
      "Before: Array 1 =  [1 2 3 4 5 6]\n",
      "Array 2 =  [100   2   3   4   5   6]\n",
      "After: Array 1 =  [100   2   3   4   5   6]\n",
      "\n",
      "Before: Array 1 =  [1 2 3 4 5 6]\n",
      "Array 2 =  [100   2   3   4   5   6]\n",
      "After: Array 1 =  [1 2 3 4 5 6]\n"
     ]
    }
   ],
   "source": [
    "# ndarray를 그대로 대입한 경우\n",
    "arr1 = np.array([1,2,3,4,5,6])\n",
    "print('Before: Array 1 = ', arr1)\n",
    "arr2 = arr1\n",
    "arr2[0] = 100\n",
    "print('Array 2 = ', arr2)\n",
    "print('After: Array 1 = ', arr1)\n",
    "print('')\n",
    "\n",
    "# ndarray를 복사해서 대입한 경우\n",
    "arr1 = np.array([1,2,3,4,5,6])\n",
    "print('Before: Array 1 = ', arr1)\n",
    "arr2 = arr1.copy()\n",
    "arr2[0] = 100\n",
    "print('Array 2 = ', arr2)\n",
    "print('After: Array 1 = ', arr1)"
   ]
  },
  {
   "cell_type": "code",
   "execution_count": 17,
   "metadata": {},
   "outputs": [
    {
     "name": "stdout",
     "output_type": "stream",
     "text": [
      "Before reshape: Array 1 = \n",
      "[[1 2 3]\n",
      " [4 5 6]]\n",
      "After reshape: Array 2 = \n",
      "[[1 2]\n",
      " [3 4]\n",
      " [5 6]]\n"
     ]
    }
   ],
   "source": [
    "arr1 = np.array([[1,2,3],[4,5,6]])\n",
    "print('Before reshape: Array 1 = ')\n",
    "print(arr1)\n",
    "arr2 = arr1.copy().reshape(3,2)\n",
    "print('After reshape: Array 2 = ')\n",
    "print(arr2)"
   ]
  },
  {
   "cell_type": "code",
   "execution_count": null,
   "metadata": {},
   "outputs": [],
   "source": []
  }
 ],
 "metadata": {
  "kernelspec": {
   "display_name": "Python 3",
   "language": "python",
   "name": "python3"
  },
  "language_info": {
   "codemirror_mode": {
    "name": "ipython",
    "version": 3
   },
   "file_extension": ".py",
   "mimetype": "text/x-python",
   "name": "python",
   "nbconvert_exporter": "python",
   "pygments_lexer": "ipython3",
   "version": "3.7.7"
  }
 },
 "nbformat": 4,
 "nbformat_minor": 4
}
